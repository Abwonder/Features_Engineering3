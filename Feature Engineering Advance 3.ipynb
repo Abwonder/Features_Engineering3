{
 "cells": [
  {
   "cell_type": "markdown",
   "id": "0e2cf538",
   "metadata": {},
   "source": [
    "## Feature Advance 3"
   ]
  },
  {
   "cell_type": "markdown",
   "id": "5346e5f4",
   "metadata": {},
   "source": [
    "### Question 1\n",
    "\n",
    "Q1. What is Min-Max scaling, and how is it used in data preprocessing? Provide an example to illustrate its application.\n",
    "\n",
    "__answer__\n",
    "\n",
    "__Min-Max scaling__ is a data normalization technique used in data preprocessing that scales the features of a dataset to a fixed range, typically between 0 and 1. This is done by subtracting the minimum value of the feature and then dividing the result by the difference between the maximum and minimum values of the feature.\n",
    "\n",
    "The formula for Min-Max scaling is as follows:\n",
    "\n",
    "scaled_feature = (feature - min_feature) / (max_feature - min_feature)\n",
    "\n",
    "where:\n",
    "\n",
    "feature: the original value of the feature\n",
    "\n",
    "min_feature: the minimum value of the feature\n",
    "\n",
    "max_feature: the maximum value of the feature\n",
    "\n",
    "scaled_feature: the normalized value of the feature\n",
    "\n",
    "__Usefulness__\n",
    "\n",
    "Min-Max scaling is useful for features that have different ranges and units of measurement, as it allows them to be compared on the same scale. It also helps to avoid issues with algorithms that assume that the data is centered around zero or that have different sensitivity to the scale of the features.\n",
    "\n",
    "\n",
    "__Example of real-world application__\n",
    "\n",
    "Here's an example to illustrate the application of Min-Max scaling:\n",
    "\n",
    "Suppose we have a dataset with a feature \"age\" ranging from 20 to 60 and a feature \"income\" ranging from 30,000 to 90,000. We want to apply Min-Max scaling to these features.\n",
    "\n",
    "The minimum value of \"age\" is 20 and the maximum value is 60. The minimum value of \"income\" is 30,000 and the maximum value is 90,000.\n",
    "\n",
    "To scale the \"age\" feature, we subtract the minimum value of 20 from each value and then divide by the difference between the maximum value of 60 and the minimum value of 20, which is 40. So, for example, if someone is 30 years old, the scaled value of their age would be (30 - 20) / 40 = 0.25.\n",
    "\n",
    "To scale the \"income\" feature, we subtract the minimum value of 30,000 from each value and then divide by the difference between the maximum value of 90,000 and the minimum value of 30,000, which is 60,000. So, for example, if someone's income is 60,000, the scaled value of their income would be (60,000 - 30,000) / 60,000 = 0.5.\n",
    "\n",
    "After applying Min-Max scaling, both features will have values between 0 and 1, which allows them to be compared on the same scale.\n"
   ]
  },
  {
   "cell_type": "markdown",
   "id": "e0314c28",
   "metadata": {},
   "source": [
    "### Question 2 \n",
    "\n",
    "Q2. What is the Unit Vector technique in feature scaling, and how does it differ from Min-Max scaling? Provide an example to illustrate its application.\n",
    "\n",
    "__Answer__\n",
    "\n",
    "__The Unit Vector technique__ is a data normalization technique used in feature scaling that scales the magnitude of each feature vector to 1. It is also known as \"Normalization\" or \"L2 normalization\".\n",
    "\n",
    "The Unit Vector technique is applied by dividing each feature vector by its Euclidean length, which is the square root of the sum of the squares of its individual values. This ensures that each feature vector has a length of 1, while preserving the direction of the original feature vector.\n",
    "\n",
    "The formula for Unit Vector scaling is as follows:\n",
    "\n",
    "scaled_feature_vector = feature_vector / ||feature_vector||\n",
    "\n",
    "where:\n",
    "\n",
    "feature_vector: the original vector of the feature\n",
    "\n",
    "||feature_vector||: the Euclidean length of the feature vector\n",
    "\n",
    "scaled_feature_vector: the normalized vector of the feature\n",
    "\n",
    "__The Difference between Min-Max scaling and Unit Vector scaling__\n",
    "\n",
    "The main difference between Min-Max scaling and Unit Vector scaling is that Min-Max scaling scales the feature values to a fixed range, while Unit Vector scaling scales the feature vectors to a fixed magnitude.\n",
    "\n",
    "\n",
    "__Ellustration Assignment__\n",
    "\n",
    "Here's an example to illustrate the application of Unit Vector scaling:\n",
    "\n",
    "Suppose we have a dataset with two features: \"age\" and \"income\". Each data point is represented as a vector in a 2-dimensional space, where the x-axis represents \"age\" and the y-axis represents \"income\". We want to apply Unit Vector scaling to these features.\n",
    "\n",
    "For example, suppose we have a data point with \"age\" = 40 and \"income\" = 60,000. The corresponding feature vector would be (40, 60,000).\n",
    "\n",
    "The Euclidean length of the feature vector is calculated as follows:\n",
    "\n",
    "||feature_vector|| = sqrt(40^2 + 60,000^2) = 60,000.05\n",
    "\n",
    "To scale the feature vector using Unit Vector scaling, we divide each component of the vector by its Euclidean length:\n",
    "\n",
    "scaled_feature_vector = (40 / 60,000.05, 60,000 / 60,000.05) = (0.00066667, 0.99999996)\n",
    "\n",
    "After applying Unit Vector scaling, the feature vector now has a length of 1, while preserving its direction. This makes it easier to compare the magnitudes of the feature vectors across different data points."
   ]
  },
  {
   "cell_type": "markdown",
   "id": "156bdb1e",
   "metadata": {},
   "source": [
    "### Question 3\n",
    "\n",
    "Q3. What is PCA (Principle Component Analysis), and how is it used in dimensionality reduction? Provide an example to illustrate its application.\n",
    "\n",
    "\n",
    "__Answer__ \n",
    "\n",
    "__PCA (Principle Component Analysis)__ is a technique used in machine learning and data analysis for dimensionality reduction. It is a mathematical method that transforms a large set of correlated variables into a smaller set of uncorrelated variables called principal components, while still retaining the most important information in the original dataset.\n",
    "\n",
    "The main goal of PCA is to reduce the dimensionality of the dataset, which can help improve the efficiency of algorithms, reduce the risk of overfitting, and simplify the data visualization process.\n",
    "\n",
    "PCA works by finding the directions of maximum variance in a dataset and projecting the data onto these directions. The first principal component captures the direction with the highest variance, while the second principal component captures the direction with the second-highest variance, and so on. The number of principal components retained is determined by a threshold or by analyzing the explained variance ratio.\n",
    "\n",
    "Here's an example to illustrate the application of PCA:\n",
    "\n",
    "Suppose we have a dataset of 1000 data points with 5 features: age, income, education, work experience, and location. We want to reduce the dimensionality of this dataset using PCA.\n",
    "\n",
    "1. First, we standardize the dataset by subtracting the mean of each feature and dividing by its standard deviation. This step is important to ensure that each feature has equal importance in the PCA analysis.\n",
    "\n",
    "2. Next, we calculate the covariance matrix of the standardized dataset. The covariance matrix represents the degree of correlation between each pair of features.\n",
    "\n",
    "3. Then, we calculate the eigenvectors and eigenvalues of the covariance matrix. The eigenvectors represent the principal components, while the eigenvalues represent the amount of variance explained by each principal component.\n",
    "\n",
    "4. We select the top k principal components based on their corresponding eigenvalues or the explained variance ratio. For example, if we want to retain 2 principal components, we select the first 2 eigenvectors with the highest eigenvalues.\n",
    "\n",
    "5. Finally, we project the original dataset onto the selected principal components. This creates a new dataset with fewer features, where each data point is represented by its corresponding principal component scores.\n",
    "\n",
    "__Finally__\n",
    "\n",
    "The resulting dataset can be used for further analysis, such as clustering or classification, or for visualization purposes. By reducing the number of features, PCA can help simplify the dataset and improve the performance of machine learning algorithms."
   ]
  },
  {
   "cell_type": "markdown",
   "id": "3c5bfb55",
   "metadata": {},
   "source": [
    "### Question 4\n",
    "\n",
    "\n",
    "Q4. What is the relationship between PCA and Feature Extraction, and how can PCA be used for Feature Extraction? Provide an example to illustrate this concept.\n",
    "\n",
    "__Answer__\n",
    "\n",
    "__PCA and feature extraction__ are related concepts in machine learning and data analysis. Feature extraction is the process of selecting or transforming features from the original dataset to create a new set of features that are more informative or easier to work with. PCA can be used as a feature extraction technique to transform a large set of correlated features into a smaller set of uncorrelated features while still preserving most of the information in the original dataset.\n",
    "\n",
    "In PCA, the principal components are the new features created by linear combinations of the original features. Each principal component represents a new feature that captures the most important information or variation in the original dataset. These new features can be used as inputs to machine learning algorithms or for data visualization purposes.\n",
    "\n",
    "Here's an example to illustrate how PCA can be used for feature extraction:\n",
    "\n",
    "Suppose we have a dataset of 1000 images, each with 100x100 pixels. Each pixel represents a feature, resulting in a dataset with 10,000 features per image. This high-dimensional dataset can be difficult to work with and may lead to overfitting or slow performance of machine learning algorithms.\n",
    "\n",
    "To reduce the dimensionality of the dataset, we can use PCA as a feature extraction technique. First, we flatten each image into a 1-dimensional vector of 10,000 features. Then, we standardize the dataset by subtracting the mean of each feature and dividing by its standard deviation.\n",
    "\n",
    "Next, we apply PCA to the standardized dataset. We select the top k principal components based on their corresponding eigenvalues or the explained variance ratio. For example, if we want to retain 50 principal components, we select the first 50 eigenvectors with the highest eigenvalues.\n",
    "\n",
    "Finally, we project each image onto the selected principal components to obtain a new set of features for each image. Each image is now represented by a vector of 50 features, which capture the most important information or variation in the original image.\n",
    "\n",
    "These new features can be used as inputs to machine learning algorithms for tasks such as image classification or clustering. By reducing the dimensionality of the dataset and extracting informative features, PCA can help improve the performance and efficiency of machine learning algorithms."
   ]
  },
  {
   "cell_type": "markdown",
   "id": "bb33e854",
   "metadata": {},
   "source": [
    "### Question 5\n",
    "\n",
    "Q5. You are working on a project to build a recommendation system for a food delivery service. The dataset contains features such as price, rating, and delivery time. Explain how you would use Min-Max scaling to preprocess the data.\n",
    "\n",
    "__Answer__\n",
    "\n",
    "To use Min-Max scaling to preprocess the data for a recommendation system for a food delivery service, we would first need to identify the features that need to be scaled. In this case, the features that require scaling are likely to be price, rating, and delivery time.\n",
    "\n",
    "Min-Max scaling is a common normalization technique used to rescale numeric data in a way that all values fall within a specified range, typically between 0 and 1. The formula for Min-Max scaling is:\n",
    "\n",
    "X_scaled = (X - X_min) / (X_max - X_min)\n",
    "\n",
    "where X is the original value \n",
    "\n",
    "X_min is the minimum value in the dataset\n",
    "\n",
    "X_max is the maximum value in the dataset.\n",
    "\n",
    "__Application__\n",
    "\n",
    "To apply Min-Max scaling to the food delivery dataset, we would first calculate the minimum and maximum values for each feature. For example, we might find that the minimum price is 5 and the maximum price is 50, the minimum rating is 1 star and the maximum rating is 5 stars, and the minimum delivery time is 10 minutes and the maximum delivery time is 60 minutes.\n",
    "\n",
    "Then, we would use the Min-Max scaling formula to rescale each value for each feature. For example, if we have a food item with a price of $10, a rating of 4 stars, and a delivery time of 30 minutes, the scaled values would be:\n",
    "\n",
    "\n",
    "Scaled price = (10 - 5) / (50 - 5) = 0.15\n",
    "\n",
    "Scaled rating = (4 - 1) / (5 - 1) = 0.75\n",
    "\n",
    "Scaled delivery time = (30 - 10) / (60 - 10) = 0.43\n",
    "\n",
    "After applying Min-Max scaling to all the features in the dataset, we would have a normalized dataset where all values fall within the range of 0 to 1. This can help improve the performance of machine learning algorithms that use the dataset as input, as it ensures that all features have equal importance and are on a similar scale."
   ]
  },
  {
   "cell_type": "markdown",
   "id": "24c82ef5",
   "metadata": {},
   "source": [
    "### Question 6\n",
    "\n",
    "Q6. You are working on a project to build a model to predict stock prices. The dataset contains many features, such as company financial data and market trends. Explain how you would use PCA to reduce the dimensionality of the dataset.\n",
    "\n",
    "__Answer__\n",
    "\n",
    "PCA can be a useful technique to reduce the dimensionality of a dataset with many features, such as the financial data and market trends used in a stock price prediction model. Here is a general approach to using PCA for this purpose:\n",
    "\n",
    "1. __Standardize the data:__ Before applying PCA, we should standardize the data to ensure that each feature has the same scale and mean. This can be done by subtracting the mean of each feature and dividing by its standard deviation.\n",
    "\n",
    "2. __Compute the covariance matrix:__ The covariance matrix measures how each pair of features varies together. It is a square matrix with dimensions equal to the number of features in the dataset. We can compute the covariance matrix using the standardized data.\n",
    "\n",
    "3. __Compute the eigenvectors and eigenvalues:__ The eigenvectors and eigenvalues of the covariance matrix represent the direction and magnitude of the principal components of the data. We can compute these using a matrix decomposition technique, such as Singular Value Decomposition (SVD) or Eigendecomposition.\n",
    "\n",
    "4. __Select the number of principal components:__ We can choose the number of principal components to retain based on the explained variance ratio or the cumulative sum of the eigenvalues. For example, we might choose to retain the top k principal components that explain 90% of the variance in the data.\n",
    "\n",
    "5. __Transform the data:__ Finally, we can transform the original data into a lower-dimensional space by multiplying it with the selected eigenvectors. The resulting transformed data has fewer dimensions, but it still captures most of the information or variation in the original data.\n",
    "\n",
    "In the case of a stock price prediction model, we might apply PCA to the financial data and market trends features to reduce their dimensionality. This would result in a smaller set of features that capture the most important information or trends in the data, and could be used as input to a machine learning model. By reducing the dimensionality of the data, we can reduce the risk of overfitting and improve the performance of the model. However, it is important to note that PCA is not always the best approach, and it is important to evaluate the trade-offs between dimensionality reduction and information loss in the specific context of the problem at hand."
   ]
  },
  {
   "cell_type": "markdown",
   "id": "66d9746a",
   "metadata": {},
   "source": [
    "### Question 7\n",
    "\n",
    "Q7. For a dataset containing the following values: [1, 5, 10, 15, 20], perform Min-Max scaling to transform the values to a range of -1 to 1.\n",
    "\n",
    "__Answer__\n",
    "\n",
    "check the below code"
   ]
  },
  {
   "cell_type": "code",
   "execution_count": 5,
   "id": "1e86b7ac",
   "metadata": {},
   "outputs": [
    {
     "name": "stdout",
     "output_type": "stream",
     "text": [
      "[0.0, 0.21052631578947367, 0.47368421052631576, 0.7368421052631579, 1.0]\n"
     ]
    }
   ],
   "source": [
    "# first method\n",
    "## dataset to apply min-max scaling on\n",
    "data = [1, 5, 10, 15, 20]\n",
    "data_scaled = []\n",
    "max_num = max(data)\n",
    "min_num = min(data)\n",
    "\n",
    "for num in data:\n",
    "    scale = (num - min_num)/(max_num - min_num)\n",
    "    data_scaled.append(scale)\n",
    "#     print(num)\n",
    "print(data_scaled)"
   ]
  },
  {
   "cell_type": "code",
   "execution_count": 18,
   "id": "2dc6c2e0",
   "metadata": {},
   "outputs": [],
   "source": [
    "# Second method\n",
    "from sklearn.preprocessing import MinMaxScaler\n"
   ]
  },
  {
   "cell_type": "code",
   "execution_count": 27,
   "id": "796b72ad",
   "metadata": {},
   "outputs": [],
   "source": [
    "min_max=MinMaxScaler()"
   ]
  },
  {
   "cell_type": "code",
   "execution_count": 29,
   "id": "a785436e",
   "metadata": {},
   "outputs": [
    {
     "data": {
      "text/plain": [
       "array([[0., 0., 0., 0., 0.]])"
      ]
     },
     "execution_count": 29,
     "metadata": {},
     "output_type": "execute_result"
    }
   ],
   "source": [
    "### I am not sure why this is not working put this the right way to do it\n",
    "min_max.fit_transform([[1, 5, 10, 15, 20]])\n",
    "\n",
    "# Note: the first example worked, method I mean"
   ]
  },
  {
   "cell_type": "markdown",
   "id": "300d538a",
   "metadata": {},
   "source": [
    "### Question 8\n",
    "\n",
    "Q8. For a dataset containing the following features: [height, weight, age, gender, blood pressure], perform Feature Extraction using PCA. How many principal components would you choose to retain, and why?\n",
    "\n",
    "__Answer__\n",
    "\n",
    "I would retain the number of compenent that explain atleast 80% of the total variance of the dataset. I will follow the following steps:\n",
    "\n",
    "1. Perform a PCA \n",
    "2. plot the explained variance ratio for each component (scree plot elbow)\n",
    "3. choose the minimum number of components that capture at least 95% of the total variance.\n",
    "\n",
    "I choose 3 component from the random data I used below:\n"
   ]
  },
  {
   "cell_type": "code",
   "execution_count": 43,
   "id": "edd8e2bd",
   "metadata": {},
   "outputs": [
    {
     "data": {
      "image/png": "[encoded data removed]",
      "text/plain": [
       "<Figure size 432x288 with 1 Axes>"
      ]
     },
     "metadata": {
      "needs_background": "light"
     },
     "output_type": "display_data"
    }
   ],
   "source": [
    "import numpy as np\n",
    "from sklearn.decomposition import PCA\n",
    "from sklearn.preprocessing import StandardScaler\n",
    "\n",
    "# simulate data\n",
    "np.random.seed(42)\n",
    "n_samples = 1000\n",
    "height = np.random.normal(170, 10, n_samples)\n",
    "weight = np.random.normal(70, 15, n_samples)\n",
    "age = np.random.normal(40, 10, n_samples)\n",
    "gender = np.random.binomial(1, 0.5, n_samples)\n",
    "blood_pressure = np.random.normal(120, 10, n_samples)\n",
    "\n",
    "# combine data into a matrix\n",
    "X = np.column_stack((height, weight, age, gender, blood_pressure))\n",
    "\n",
    "# create a StandardScaler object\n",
    "scaler = StandardScaler()\n",
    "\n",
    "# standardize the data\n",
    "X_std = scaler.fit_transform(X)\n",
    "\n",
    "# create a PCA object\n",
    "pca = PCA()\n",
    "\n",
    "# fit the PCA model\n",
    "pca.fit(X_std)\n",
    "\n",
    "# compute the explained variance ratio for each component\n",
    "explained_var = pca.explained_variance_ratio_\n",
    "\n",
    "# plot the explained variance ratio\n",
    "import matplotlib.pyplot as plt\n",
    "\n",
    "plt.plot(range(1, len(explained_var)+1), explained_var, 'o-')\n",
    "plt.xlabel('Number of components')\n",
    "plt.ylabel('Explained variance ratio')\n",
    "plt.title(\"Screeplot\", loc=\"left\")\n",
    "plt.show()\n"
   ]
  },
  {
   "cell_type": "code",
   "execution_count": 33,
   "id": "105de683",
   "metadata": {},
   "outputs": [
    {
     "data": {
      "text/plain": [
       "array([[ 1.04040409, -0.94713976,  0.57791341],\n",
       "       [ 0.69333369, -1.39401286, -0.55367771],\n",
       "       [-0.40272265,  0.66553009, -0.5643062 ],\n",
       "       ...,\n",
       "       [-0.20059263,  0.41229868,  1.28277885],\n",
       "       [-0.30182067,  0.29657088, -1.38097591],\n",
       "       [-0.91024224,  1.14136595,  0.24955197]])"
      ]
     },
     "execution_count": 33,
     "metadata": {},
     "output_type": "execute_result"
    }
   ],
   "source": [
    "# the number of components chose base ont the scree plot\n",
    "n_components = 3\n",
    "\n",
    "# transform the data\n",
    "X_pca = pca.transform(X_std)\n",
    "X_pca[:, :n_components]"
   ]
  },
  {
   "cell_type": "markdown",
   "id": "08a9e287",
   "metadata": {},
   "source": [
    "## The End"
   ]
  }
 ],
 "metadata": {
  "kernelspec": {
   "display_name": "Python 3 (ipykernel)",
   "language": "python",
   "name": "python3"
  },
  "language_info": {
   "codemirror_mode": {
    "name": "ipython",
    "version": 3
   },
   "file_extension": ".py",
   "mimetype": "text/x-python",
   "name": "python",
   "nbconvert_exporter": "python",
   "pygments_lexer": "ipython3",
   "version": "3.9.12"
  }
 },
 "nbformat": 4,
 "nbformat_minor": 5
}
